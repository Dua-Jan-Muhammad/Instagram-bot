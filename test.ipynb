{
 "cells": [
  {
   "cell_type": "code",
   "execution_count": 15,
   "metadata": {},
   "outputs": [
    {
     "name": "stdout",
     "output_type": "stream",
     "text": [
      "['ibtehaj_100', 'Pakistan10']\n"
     ]
    }
   ],
   "source": [
    "import csv\n",
    "\n",
    "with open('logins.csv',encoding=\"utf8\", errors=\"ignore\") as f:\n",
    "    reader = csv.reader(f)\n",
    "    data = list(reader)\n",
    "\n",
    "print(data[0])"
   ]
  },
  {
   "cell_type": "code",
   "execution_count": 18,
   "metadata": {},
   "outputs": [
    {
     "name": "stdout",
     "output_type": "stream",
     "text": [
      "[['khan.ik10'], ['i_durre'], ['ibtehaj_writess'], ['bilalsamirkhan']]\n"
     ]
    }
   ],
   "source": [
    "import csv\n",
    "\n",
    "with open('target.csv',encoding=\"utf8\", errors=\"ignore\") as t:\n",
    "    reader = csv.reader(t)\n",
    "    target_list = list(reader)\n",
    "\n",
    "print(data)"
   ]
  },
  {
   "cell_type": "code",
   "execution_count": 27,
   "metadata": {},
   "outputs": [
    {
     "data": {
      "text/plain": [
       "True"
      ]
     },
     "execution_count": 27,
     "metadata": {},
     "output_type": "execute_result"
    }
   ],
   "source": [
    "from instagrapi import Client\n",
    "cl = Client()\n",
    "cl.login(\"ibtehaj_100\",\"Pakistan10\")"
   ]
  },
  {
   "cell_type": "code",
   "execution_count": 40,
   "metadata": {},
   "outputs": [
    {
     "name": "stdout",
     "output_type": "stream",
     "text": [
      "jessmarquez9\n",
      "gatitos.tiernos.posting\n",
      "notlilapearlxx\n",
      "guelay.ee\n",
      "ileniaconti_pt\n",
      "pretty_girls_pimenova\n",
      "all.sagittarius.facts\n",
      "thedarkacademiastuff\n",
      "incicetinphotography\n",
      "sscnapoli24h\n",
      "oshopranaam\n",
      "_julyetta_\n",
      "frafalleti\n",
      "aylincanel_\n",
      "beauty_girls_pictures\n"
     ]
    }
   ],
   "source": [
    "\n",
    "\n",
    "medias = cl.hashtag_medias_top('love', amount=15)\n",
    "for i in range(len(medias)):\n",
    "    print(medias[i].dict()['user']['username'])"
   ]
  },
  {
   "cell_type": "code",
   "execution_count": null,
   "metadata": {},
   "outputs": [],
   "source": []
  }
 ],
 "metadata": {
  "kernelspec": {
   "display_name": "Python 3.10.4 ('nlp')",
   "language": "python",
   "name": "python3"
  },
  "language_info": {
   "codemirror_mode": {
    "name": "ipython",
    "version": 3
   },
   "file_extension": ".py",
   "mimetype": "text/x-python",
   "name": "python",
   "nbconvert_exporter": "python",
   "pygments_lexer": "ipython3",
   "version": "3.10.4"
  },
  "orig_nbformat": 4,
  "vscode": {
   "interpreter": {
    "hash": "4bab933dc28b71df07603d374be6f615373887f5b3fb21180f71207eef224abb"
   }
  }
 },
 "nbformat": 4,
 "nbformat_minor": 2
}
